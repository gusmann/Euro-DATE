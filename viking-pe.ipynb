{
 "cells": [
  {
   "cell_type": "markdown",
   "id": "cc8706ca-4456-4338-a544-167d696a9129",
   "metadata": {},
   "source": [
    "# European DATE Practical Exercise\n",
    "This notebook snatches a ZIP containing boundary shapefiles describing the [European DATE](https://odin.tradoc.army.mil/DATE/83a94dfd68f15bda5615c97fd8ac7358) area, then adds them to a Folium map using GeoPandas. Check out [the resulting map here](http://gusmann.github.io/Euro-DATE/).\n"
   ]
  },
  {
   "cell_type": "code",
   "execution_count": 1,
   "id": "c3a0ff9e-2ca0-4d0f-853c-f6465c06be6d",
   "metadata": {},
   "outputs": [],
   "source": [
    "# third party imports\n",
    "import zipfile\n",
    "from pathlib import Path\n",
    "from requests import Session\n",
    "import io\n",
    "import geopandas as gpd\n",
    "from folium import Map\n",
    "import folium\n",
    "import matplotlib.colors as mcolors\n",
    "\n",
    "client = Session()\n",
    "\n",
    "zipfile_uri = \"https://g2webcontent.z2.web.core.usgovcloudapi.net/OEE/DATE/DATE_E_Boundary_Shapefiles.zip\"\n",
    "response = client.get(zipfile_uri)\n",
    "target_directory = Path('DATE_shapefiles')"
   ]
  },
  {
   "cell_type": "code",
   "execution_count": 2,
   "id": "4bde0bd3-91bb-41f1-8706-90d5e9c8cfdc",
   "metadata": {},
   "outputs": [],
   "source": [
    "zip_file = zipfile.ZipFile(io.BytesIO(response.content))"
   ]
  },
  {
   "cell_type": "code",
   "execution_count": 3,
   "id": "afc874ca-4016-4c87-ac11-2ee8bc00cfc8",
   "metadata": {},
   "outputs": [],
   "source": [
    "zip_file.extractall(target_directory)"
   ]
  },
  {
   "cell_type": "code",
   "execution_count": 7,
   "id": "feaf2fda-0d18-40f8-8179-d27041d31473",
   "metadata": {},
   "outputs": [
    {
     "name": "stdout",
     "output_type": "stream",
     "text": [
      "DATE_shapefiles/DATE_Europe_Boundaries.shp\n",
      "DATE_shapefiles/DATE_Europe_Boundaries_Lines.shp\n",
      "DATE_shapefiles/DATE_Europe_Capital_Cities.shp\n"
     ]
    }
   ],
   "source": [
    "dfs = {}\n",
    "for filename in target_directory.glob('*.shp'):\n",
    "    dfs[filename] = gpd.read_file(filename)\n",
    "    print(filename)"
   ]
  },
  {
   "cell_type": "code",
   "execution_count": 6,
   "id": "bdd5c2b0-1592-4206-be46-9241b61c82a7",
   "metadata": {},
   "outputs": [
    {
     "data": {
      "text/plain": [
       "PosixPath('DATE_shapefiles/DATE_Europe_Capital_Cities.shp')"
      ]
     },
     "execution_count": 6,
     "metadata": {},
     "output_type": "execute_result"
    }
   ],
   "source": [
    "filename"
   ]
  },
  {
   "cell_type": "code",
   "execution_count": 8,
   "id": "bfdd0fcc-848e-4568-a817-5d97e39797f6",
   "metadata": {},
   "outputs": [],
   "source": []
  },
  {
   "cell_type": "code",
   "execution_count": 107,
   "id": "ee0aaf8b-8158-41ff-8490-08bcc561df2b",
   "metadata": {
    "scrolled": true
   },
   "outputs": [],
   "source": [
    "boundaries = dfs[target_directory / \"DATE_Europe_Boundaries.shp\"].drop(columns=['REGION','CODE','STATUS'])\n",
    "boundary_lines = dfs[target_directory / \"DATE_Europe_Boundaries_Lines.shp\"].drop(columns=['Version','Status'])\n",
    "capital_cities = dfs[target_directory / \"DATE_Europe_Capital_Cities.shp\"].drop(columns=['region','version','status'])"
   ]
  },
  {
   "cell_type": "code",
   "execution_count": 108,
   "id": "86b2b0dc-d789-44cf-ae2f-445dfd6324b5",
   "metadata": {},
   "outputs": [
    {
     "data": {
      "text/plain": [
       "country\n",
       "Framland    1\n",
       "Arnland     1\n",
       "Bothnia     1\n",
       "Pirtuni     1\n",
       "Torrike     1\n",
       "Donovia     1\n",
       "Otso        1\n",
       "Name: count, dtype: int64"
      ]
     },
     "execution_count": 108,
     "metadata": {},
     "output_type": "execute_result"
    }
   ],
   "source": [
    "capital_cities.country.value_counts()"
   ]
  },
  {
   "cell_type": "code",
   "execution_count": 109,
   "id": "c4750fb7-e5c3-47f5-9274-abf9a5675049",
   "metadata": {},
   "outputs": [
    {
     "data": {
      "text/plain": [
       "Boundary\n",
       "Bothnia / Framland     2\n",
       "Donovia / Otso         1\n",
       "Donovia / Pirtuni      1\n",
       "Pirtuni / [foreign]    1\n",
       "Arnland / Torrike      1\n",
       "Framland / Torrike     1\n",
       "Bothnia / Otso         1\n",
       "Bothnia / Torrike      1\n",
       "Otso / Torrike         1\n",
       "Torrike / [foreign]    1\n",
       "Donovia / [foreign]    1\n",
       "Name: count, dtype: int64"
      ]
     },
     "execution_count": 109,
     "metadata": {},
     "output_type": "execute_result"
    }
   ],
   "source": [
    "boundary_lines.Boundary.value_counts()"
   ]
  },
  {
   "cell_type": "code",
   "execution_count": 110,
   "id": "7aaa7605-f525-4165-8f2e-f317417cc9be",
   "metadata": {},
   "outputs": [
    {
     "data": {
      "text/plain": [
       "NAME_SHORT\n",
       "Donovia     1\n",
       "Pirtuni     1\n",
       "Arnland     1\n",
       "Torrike     1\n",
       "Bothnia     1\n",
       "Framland    1\n",
       "Otso        1\n",
       "Name: count, dtype: int64"
      ]
     },
     "execution_count": 110,
     "metadata": {},
     "output_type": "execute_result"
    }
   ],
   "source": [
    "boundaries.NAME_SHORT.value_counts()"
   ]
  },
  {
   "cell_type": "code",
   "execution_count": 111,
   "id": "3b1dfd30-7790-4230-91e4-02229e63fdb1",
   "metadata": {},
   "outputs": [],
   "source": [
    "# exclude Donovia since it'd disproportionately skew the map towards the east\n",
    "all_geom_except_donovia = boundaries[~boundaries.NAME_SHORT.str.contains('Donovia')].geometry"
   ]
  },
  {
   "cell_type": "code",
   "execution_count": 112,
   "id": "0882b244-6d85-4741-a07e-a732e57b92a5",
   "metadata": {},
   "outputs": [],
   "source": [
    "# estimate and store the most appropriate Universal Transverse Mercator (UTM) Coordinate Reference System (CRS) for the geom\n",
    "utm_crs = all_geom_except_donovia.estimate_utm_crs()\n",
    "# convert to UTM CRS and calculate centroid of all shapes *in the most apt 2d plane*\n",
    "point = all_geom_except_donovia.to_crs(utm_crs).centroid.union_all().centroid\n",
    "# convert to geoseries\n",
    "point_gs = gpd.GeoSeries([point], crs=utm_crs)\n",
    "# Convert the GeoSeries to EPSG:4326, grab the single point\n",
    "center_point = point_gs.to_crs(epsg=4326)[0]"
   ]
  },
  {
   "cell_type": "code",
   "execution_count": 121,
   "id": "2d7833fe-a09e-4fe9-b6a5-6befbd927289",
   "metadata": {},
   "outputs": [],
   "source": [
    "import branca.colormap as cm\n",
    "from folium.plugins import Fullscreen, Draw, MousePosition, MeasureControl\n",
    "\n",
    "all_categories = set(capital_cities.country) | set(boundary_lines.Boundary) | set(boundaries.NAME_SHORT)\n",
    "num_colors = len(all_categories)\n",
    "colormap = cm.linear.Set1_09.scale(0, num_colors - 1)  \n",
    "\n",
    "category_colors = {category: colormap(i) for i, category in enumerate(all_categories)}\n",
    "capital_cities['color'] = capital_cities.country.map(category_colors)\n",
    "boundary_lines['color'] = boundary_lines.Boundary.map(category_colors)\n",
    "boundaries['color'] = boundaries.NAME_SHORT.map(category_colors)"
   ]
  },
  {
   "cell_type": "code",
   "execution_count": 114,
   "id": "3b290928-8a97-4c87-a4d3-69e3cf03f46b",
   "metadata": {},
   "outputs": [
    {
     "data": {
      "text/html": [
       "<div>\n",
       "<style scoped>\n",
       "    .dataframe tbody tr th:only-of-type {\n",
       "        vertical-align: middle;\n",
       "    }\n",
       "\n",
       "    .dataframe tbody tr th {\n",
       "        vertical-align: top;\n",
       "    }\n",
       "\n",
       "    .dataframe thead th {\n",
       "        text-align: right;\n",
       "    }\n",
       "</style>\n",
       "<table border=\"1\" class=\"dataframe\">\n",
       "  <thead>\n",
       "    <tr style=\"text-align: right;\">\n",
       "      <th></th>\n",
       "      <th>name</th>\n",
       "      <th>country</th>\n",
       "      <th>geometry</th>\n",
       "      <th>color</th>\n",
       "    </tr>\n",
       "  </thead>\n",
       "  <tbody>\n",
       "    <tr>\n",
       "      <th>0</th>\n",
       "      <td>Freja</td>\n",
       "      <td>Framland</td>\n",
       "      <td>POINT (20.23999 63.82999)</td>\n",
       "      <td>#40928bff</td>\n",
       "    </tr>\n",
       "    <tr>\n",
       "      <th>1</th>\n",
       "      <td>Alsstad</td>\n",
       "      <td>Arnland</td>\n",
       "      <td>POINT (13.0333 55.58334)</td>\n",
       "      <td>#d66f81ff</td>\n",
       "    </tr>\n",
       "    <tr>\n",
       "      <th>2</th>\n",
       "      <td>Brahea</td>\n",
       "      <td>Bothnia</td>\n",
       "      <td>POINT (24.93218 60.17751)</td>\n",
       "      <td>#c68eabff</td>\n",
       "    </tr>\n",
       "    <tr>\n",
       "      <th>3</th>\n",
       "      <td>Kiev</td>\n",
       "      <td>Pirtuni</td>\n",
       "      <td>POINT (30.51468 50.43531)</td>\n",
       "      <td>#e77326ff</td>\n",
       "    </tr>\n",
       "    <tr>\n",
       "      <th>4</th>\n",
       "      <td>Tyr</td>\n",
       "      <td>Torrike</td>\n",
       "      <td>POINT (18.09539 59.35271)</td>\n",
       "      <td>#b05b39ff</td>\n",
       "    </tr>\n",
       "    <tr>\n",
       "      <th>5</th>\n",
       "      <td>Moscow</td>\n",
       "      <td>Donovia</td>\n",
       "      <td>POINT (37.61358 55.75411)</td>\n",
       "      <td>#f0e231ff</td>\n",
       "    </tr>\n",
       "    <tr>\n",
       "      <th>6</th>\n",
       "      <td>Otavia</td>\n",
       "      <td>Otso</td>\n",
       "      <td>POINT (26.95115 60.47163)</td>\n",
       "      <td>#f282bdff</td>\n",
       "    </tr>\n",
       "  </tbody>\n",
       "</table>\n",
       "</div>"
      ],
      "text/plain": [
       "      name   country                   geometry      color\n",
       "0    Freja  Framland  POINT (20.23999 63.82999)  #40928bff\n",
       "1  Alsstad   Arnland   POINT (13.0333 55.58334)  #d66f81ff\n",
       "2   Brahea   Bothnia  POINT (24.93218 60.17751)  #c68eabff\n",
       "3     Kiev   Pirtuni  POINT (30.51468 50.43531)  #e77326ff\n",
       "4      Tyr   Torrike  POINT (18.09539 59.35271)  #b05b39ff\n",
       "5   Moscow   Donovia  POINT (37.61358 55.75411)  #f0e231ff\n",
       "6   Otavia      Otso  POINT (26.95115 60.47163)  #f282bdff"
      ]
     },
     "execution_count": 114,
     "metadata": {},
     "output_type": "execute_result"
    }
   ],
   "source": [
    "capital_cities"
   ]
  },
  {
   "cell_type": "code",
   "execution_count": 115,
   "id": "41fb9fd9-6014-4d8b-9e4f-e23dd4239a29",
   "metadata": {},
   "outputs": [
    {
     "data": {
      "text/html": [
       "<div>\n",
       "<style scoped>\n",
       "    .dataframe tbody tr th:only-of-type {\n",
       "        vertical-align: middle;\n",
       "    }\n",
       "\n",
       "    .dataframe tbody tr th {\n",
       "        vertical-align: top;\n",
       "    }\n",
       "\n",
       "    .dataframe thead th {\n",
       "        text-align: right;\n",
       "    }\n",
       "</style>\n",
       "<table border=\"1\" class=\"dataframe\">\n",
       "  <thead>\n",
       "    <tr style=\"text-align: right;\">\n",
       "      <th></th>\n",
       "      <th>NAME_FULL</th>\n",
       "      <th>NAME_SHORT</th>\n",
       "      <th>DEMONYM</th>\n",
       "      <th>LANGUAGE</th>\n",
       "      <th>geometry</th>\n",
       "      <th>color</th>\n",
       "    </tr>\n",
       "  </thead>\n",
       "  <tbody>\n",
       "    <tr>\n",
       "      <th>0</th>\n",
       "      <td>United Republics of Donovia</td>\n",
       "      <td>Donovia</td>\n",
       "      <td>Donovians</td>\n",
       "      <td>None</td>\n",
       "      <td>MULTIPOLYGON (((132.44899 42.8454, 132.44988 4...</td>\n",
       "      <td>#f0e231ff</td>\n",
       "    </tr>\n",
       "    <tr>\n",
       "      <th>1</th>\n",
       "      <td>Republic of Pirtuni</td>\n",
       "      <td>Pirtuni</td>\n",
       "      <td>Pirtunians</td>\n",
       "      <td>None</td>\n",
       "      <td>MULTIPOLYGON (((29.80747 45.61433, 29.73097 45...</td>\n",
       "      <td>#e77326ff</td>\n",
       "    </tr>\n",
       "    <tr>\n",
       "      <th>2</th>\n",
       "      <td>Republic of Arnland</td>\n",
       "      <td>Arnland</td>\n",
       "      <td>Arns</td>\n",
       "      <td>Arnish</td>\n",
       "      <td>MULTIPOLYGON (((14.63742 58.09763, 14.64428 58...</td>\n",
       "      <td>#d66f81ff</td>\n",
       "    </tr>\n",
       "    <tr>\n",
       "      <th>3</th>\n",
       "      <td>Republic of Torrike</td>\n",
       "      <td>Torrike</td>\n",
       "      <td>Torrikans</td>\n",
       "      <td>Torrikan</td>\n",
       "      <td>MULTIPOLYGON (((28.15916 69.91388, 28.19722 69...</td>\n",
       "      <td>#b05b39ff</td>\n",
       "    </tr>\n",
       "    <tr>\n",
       "      <th>4</th>\n",
       "      <td>Bothnian Democratic Republic</td>\n",
       "      <td>Bothnia</td>\n",
       "      <td>Bothnians</td>\n",
       "      <td>Bothnian</td>\n",
       "      <td>MULTIPOLYGON (((27.49792 67.15104, 27.49828 67...</td>\n",
       "      <td>#c68eabff</td>\n",
       "    </tr>\n",
       "    <tr>\n",
       "      <th>5</th>\n",
       "      <td>Republic of Framland</td>\n",
       "      <td>Framland</td>\n",
       "      <td>Frams</td>\n",
       "      <td>Framish</td>\n",
       "      <td>MULTIPOLYGON (((23.47157 66.94532, 23.47579 66...</td>\n",
       "      <td>#40928bff</td>\n",
       "    </tr>\n",
       "    <tr>\n",
       "      <th>6</th>\n",
       "      <td>Republic of Otso</td>\n",
       "      <td>Otso</td>\n",
       "      <td>Otsans</td>\n",
       "      <td>Otsonian</td>\n",
       "      <td>POLYGON ((27.80783 60.5464, 27.80666 60.54861,...</td>\n",
       "      <td>#f282bdff</td>\n",
       "    </tr>\n",
       "  </tbody>\n",
       "</table>\n",
       "</div>"
      ],
      "text/plain": [
       "                      NAME_FULL NAME_SHORT     DEMONYM  LANGUAGE   \n",
       "0   United Republics of Donovia    Donovia   Donovians      None  \\\n",
       "1           Republic of Pirtuni    Pirtuni  Pirtunians      None   \n",
       "2           Republic of Arnland    Arnland        Arns    Arnish   \n",
       "3           Republic of Torrike    Torrike   Torrikans  Torrikan   \n",
       "4  Bothnian Democratic Republic    Bothnia   Bothnians  Bothnian   \n",
       "5          Republic of Framland   Framland       Frams   Framish   \n",
       "6              Republic of Otso       Otso      Otsans  Otsonian   \n",
       "\n",
       "                                            geometry      color  \n",
       "0  MULTIPOLYGON (((132.44899 42.8454, 132.44988 4...  #f0e231ff  \n",
       "1  MULTIPOLYGON (((29.80747 45.61433, 29.73097 45...  #e77326ff  \n",
       "2  MULTIPOLYGON (((14.63742 58.09763, 14.64428 58...  #d66f81ff  \n",
       "3  MULTIPOLYGON (((28.15916 69.91388, 28.19722 69...  #b05b39ff  \n",
       "4  MULTIPOLYGON (((27.49792 67.15104, 27.49828 67...  #c68eabff  \n",
       "5  MULTIPOLYGON (((23.47157 66.94532, 23.47579 66...  #40928bff  \n",
       "6  POLYGON ((27.80783 60.5464, 27.80666 60.54861,...  #f282bdff  "
      ]
     },
     "execution_count": 115,
     "metadata": {},
     "output_type": "execute_result"
    }
   ],
   "source": [
    "boundaries"
   ]
  },
  {
   "cell_type": "code",
   "execution_count": 126,
   "id": "6faff6d0-3e5e-42df-aa76-d00db9ae7410",
   "metadata": {},
   "outputs": [],
   "source": [
    "m = Map(tiles='CartoDB positron', location=(center_point.y, center_point.x), zoom_start=5)\n",
    "\n",
    "capital_cities_lg = folium.FeatureGroup(name='Capital Cities').add_to(m)\n",
    "boundary_lines_lg = folium.FeatureGroup(name='Boundary Lines').add_to(m)\n",
    "countries_lg = folium.FeatureGroup(name='Countries').add_to(m)\n",
    "\n",
    "capital_cities.explore(column='name', m=capital_cities_lg, legend=False, marker_type='circle', color=capital_cities['color'].values)\n",
    "boundary_lines.explore(column='Boundary', m=boundary_lines_lg, legend=False, color=boundary_lines['color'].values)\n",
    "boundaries.explore(column='NAME_SHORT', m=countries_lg, color=boundaries['color'].values)\n",
    "folium.LayerControl().add_to(m)\n",
    "Fullscreen().add_to(m)\n",
    "MousePosition().add_to(m)\n",
    "Draw().add_to(m)\n",
    "MeasureControl().add_to(m)\n",
    "\n",
    "m.save('index.html')"
   ]
  },
  {
   "cell_type": "code",
   "execution_count": null,
   "id": "e1ea6200-eb09-45e3-9d2c-1b6406fcd4e5",
   "metadata": {},
   "outputs": [],
   "source": [
    "m"
   ]
  },
  {
   "cell_type": "code",
   "execution_count": null,
   "id": "76818fd4-0e50-4358-b0d5-21b419321c02",
   "metadata": {},
   "outputs": [],
   "source": []
  }
 ],
 "metadata": {
  "kernelspec": {
   "display_name": "geo-analysis",
   "language": "python",
   "name": "geo-analysis_kernel"
  },
  "language_info": {
   "codemirror_mode": {
    "name": "ipython",
    "version": 3
   },
   "file_extension": ".py",
   "mimetype": "text/x-python",
   "name": "python",
   "nbconvert_exporter": "python",
   "pygments_lexer": "ipython3",
   "version": "3.10.10"
  }
 },
 "nbformat": 4,
 "nbformat_minor": 5
}
